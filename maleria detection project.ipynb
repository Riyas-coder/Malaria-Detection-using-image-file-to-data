{
 "cells": [
  {
   "cell_type": "code",
   "execution_count": 1,
   "metadata": {},
   "outputs": [],
   "source": [
    "import cv2\n",
    "import os\n",
    "import numpy as np\n",
    "import csv \n",
    "import glob\n",
    "import pandas as pd"
   ]
  },
  {
   "cell_type": "code",
   "execution_count": 3,
   "metadata": {},
   "outputs": [
    {
     "name": "stdout",
     "output_type": "stream",
     "text": [
      "       Parasitized    113.0  15160.0        0      0.1      0.2  Unnamed: 6\n",
      "0      Parasitized    163.5  18954.0      0.0      0.0      0.0         NaN\n",
      "1      Parasitized     85.0     29.5  15201.0      0.0      0.0         NaN\n",
      "2      Parasitized     46.0    196.0  13745.0      0.0      0.0         NaN\n",
      "3      Parasitized  13593.0      0.0      0.0      0.0      0.0         NaN\n",
      "4      Parasitized     43.5    106.0  16505.0      0.0      0.0         NaN\n",
      "...            ...      ...      ...      ...      ...      ...         ...\n",
      "23160  Parasitized     86.0    100.5  16288.5      0.0      0.0         NaN\n",
      "23161  Parasitized    142.5     10.0    163.5  13753.5      0.0         NaN\n",
      "23162  Parasitized    193.5      8.5     54.5     66.0  16922.0         NaN\n",
      "23163  Parasitized    133.5     40.5  10865.0      0.0      0.0         NaN\n",
      "23164  Parasitized    157.5      NaN      NaN      NaN      NaN         NaN\n",
      "\n",
      "[23165 rows x 7 columns]\n",
      "       Parasitized    113.0  15160.0        0      0.1      0.2  Unnamed: 6\n",
      "0      Parasitized    163.5  18954.0      0.0      0.0      0.0         0.0\n",
      "1      Parasitized     85.0     29.5  15201.0      0.0      0.0         0.0\n",
      "2      Parasitized     46.0    196.0  13745.0      0.0      0.0         0.0\n",
      "3      Parasitized  13593.0      0.0      0.0      0.0      0.0         0.0\n",
      "4      Parasitized     43.5    106.0  16505.0      0.0      0.0         0.0\n",
      "...            ...      ...      ...      ...      ...      ...         ...\n",
      "23160  Parasitized     86.0    100.5  16288.5      0.0      0.0         0.0\n",
      "23161  Parasitized    142.5     10.0    163.5  13753.5      0.0         0.0\n",
      "23162  Parasitized    193.5      8.5     54.5     66.0  16922.0         0.0\n",
      "23163  Parasitized    133.5     40.5  10865.0      0.0      0.0         0.0\n",
      "23164  Parasitized    157.5      0.0      0.0      0.0      0.0         0.0\n",
      "\n",
      "[23165 rows x 7 columns]\n"
     ]
    }
   ],
   "source": [
    "label=\"Parasitized\"   # run to times for two labels\n",
    "dirList=glob.glob(\"cell_images/\"+label+\"/*.png\")\n",
    "file =open(\"CSV/temp_data_1.csv\",\"a\") # working line\n",
    "\n",
    "\n",
    "for img_path in dirList:\n",
    "    #print(\"step1\")\n",
    "    im=cv2.imread(img_path)\n",
    "    im=cv2.GaussianBlur(im,(5,5),2) \n",
    "\n",
    "    im_gray=cv2.cvtColor(im,cv2.COLOR_BGR2GRAY)\n",
    "\n",
    "    ret,thresh=cv2.threshold(im_gray,127,255,0)\n",
    "\n",
    "    contours,_ = cv2.findContours(thresh,1,2)\n",
    "    \n",
    "    file.write(label)\n",
    "    file.write(\",\")\n",
    "    \n",
    "    for i in range (5):\n",
    "        try:\n",
    "            area=cv2.contourArea(contours[i])\n",
    "            file.write(str(area))\n",
    "            \n",
    "        except:\n",
    "            file.write(\"0\")\n",
    "        file.write(\",\")\n",
    "        \n",
    "    file.write(\"\\n\")\n",
    "\n",
    "#file.close()\n",
    "df=pd.read_csv(\"CSV/temp_data_1.csv\")\n",
    "print(df)\n",
    "\n",
    "\n",
    "df.fillna(0,inplace=True)\n",
    "print(df)\n"
   ]
  },
  {
   "cell_type": "code",
   "execution_count": 4,
   "metadata": {},
   "outputs": [
    {
     "name": "stdout",
     "output_type": "stream",
     "text": [
      "       Parasitized    113.0  15160.0        0  0.1  0.2  Unnamed: 6\n",
      "0      Parasitized    163.5  18954.0      0.0  0.0  0.0         NaN\n",
      "1      Parasitized     85.0     29.5  15201.0  0.0  0.0         NaN\n",
      "2      Parasitized     46.0    196.0  13745.0  0.0  0.0         NaN\n",
      "3      Parasitized  13593.0      0.0      0.0  0.0  0.0         NaN\n",
      "4      Parasitized     43.5    106.0  16505.0  0.0  0.0         NaN\n",
      "...            ...      ...      ...      ...  ...  ...         ...\n",
      "36941   Uninfected  12400.0      0.0      0.0  0.0  0.0         NaN\n",
      "36942   Uninfected   9235.0      0.0      0.0  0.0  0.0         NaN\n",
      "36943   Uninfected  10791.0      0.0      0.0  0.0  0.0         NaN\n",
      "36944   Uninfected  12394.0      0.0      0.0  0.0  0.0         NaN\n",
      "36945   Uninfected      NaN      NaN      NaN  NaN  NaN         NaN\n",
      "\n",
      "[36946 rows x 7 columns]\n",
      "       Parasitized    113.0  15160.0        0  0.1  0.2  Unnamed: 6\n",
      "0      Parasitized    163.5  18954.0      0.0  0.0  0.0         0.0\n",
      "1      Parasitized     85.0     29.5  15201.0  0.0  0.0         0.0\n",
      "2      Parasitized     46.0    196.0  13745.0  0.0  0.0         0.0\n",
      "3      Parasitized  13593.0      0.0      0.0  0.0  0.0         0.0\n",
      "4      Parasitized     43.5    106.0  16505.0  0.0  0.0         0.0\n",
      "...            ...      ...      ...      ...  ...  ...         ...\n",
      "36941   Uninfected  12400.0      0.0      0.0  0.0  0.0         0.0\n",
      "36942   Uninfected   9235.0      0.0      0.0  0.0  0.0         0.0\n",
      "36943   Uninfected  10791.0      0.0      0.0  0.0  0.0         0.0\n",
      "36944   Uninfected  12394.0      0.0      0.0  0.0  0.0         0.0\n",
      "36945   Uninfected      0.0      0.0      0.0  0.0  0.0         0.0\n",
      "\n",
      "[36946 rows x 7 columns]\n"
     ]
    }
   ],
   "source": [
    "label=\"Uninfected\"   # run to times for two labels\n",
    "dirList=glob.glob(\"cell_images/\"+label+\"/*.png\")\n",
    "file =open(\"CSV/temp_data_1.csv\",\"a\") # working line\n",
    "\n",
    "\n",
    "for img_path in dirList:\n",
    "    #print(\"step1\")\n",
    "    im=cv2.imread(img_path)\n",
    "    im=cv2.GaussianBlur(im,(5,5),2) \n",
    "\n",
    "    im_gray=cv2.cvtColor(im,cv2.COLOR_BGR2GRAY)\n",
    "\n",
    "    ret,thresh=cv2.threshold(im_gray,127,255,0)\n",
    "\n",
    "    contours,_ = cv2.findContours(thresh,1,2)\n",
    "    \n",
    "    file.write(label)\n",
    "    file.write(\",\")\n",
    "    \n",
    "    for i in range (5):\n",
    "        try:\n",
    "            area=cv2.contourArea(contours[i])\n",
    "            file.write(str(area))\n",
    "            \n",
    "        except:\n",
    "            file.write(\"0\")\n",
    "        file.write(\",\")\n",
    "        \n",
    "    file.write(\"\\n\")\n",
    "\n",
    "#file.close()\n",
    "df=pd.read_csv(\"CSV/temp_data_1.csv\")\n",
    "print(df)\n",
    "df.fillna(0,inplace=True)\n",
    "print(df)\n"
   ]
  },
  {
   "cell_type": "code",
   "execution_count": 5,
   "metadata": {},
   "outputs": [
    {
     "name": "stdout",
     "output_type": "stream",
     "text": [
      "       Parasitized    113.0  15160.0        0  0.1  0.2  Unnamed: 6\n",
      "0      Parasitized    163.5  18954.0      0.0  0.0  0.0         NaN\n",
      "1      Parasitized     85.0     29.5  15201.0  0.0  0.0         NaN\n",
      "2      Parasitized     46.0    196.0  13745.0  0.0  0.0         NaN\n",
      "3      Parasitized  13593.0      0.0      0.0  0.0  0.0         NaN\n",
      "4      Parasitized     43.5    106.0  16505.0  0.0  0.0         NaN\n",
      "...            ...      ...      ...      ...  ...  ...         ...\n",
      "36941   Uninfected  12400.0      0.0      0.0  0.0  0.0         NaN\n",
      "36942   Uninfected   9235.0      0.0      0.0  0.0  0.0         NaN\n",
      "36943   Uninfected  10791.0      0.0      0.0  0.0  0.0         NaN\n",
      "36944   Uninfected  12394.0      0.0      0.0  0.0  0.0         NaN\n",
      "36945   Uninfected      NaN      NaN      NaN  NaN  NaN         NaN\n",
      "\n",
      "[36946 rows x 7 columns]\n",
      "       Parasitized    113.0  15160.0        0  0.1  0.2  Unnamed: 6\n",
      "0      Parasitized    163.5  18954.0      0.0  0.0  0.0         0.0\n",
      "1      Parasitized     85.0     29.5  15201.0  0.0  0.0         0.0\n",
      "2      Parasitized     46.0    196.0  13745.0  0.0  0.0         0.0\n",
      "3      Parasitized  13593.0      0.0      0.0  0.0  0.0         0.0\n",
      "4      Parasitized     43.5    106.0  16505.0  0.0  0.0         0.0\n",
      "...            ...      ...      ...      ...  ...  ...         ...\n",
      "36941   Uninfected  12400.0      0.0      0.0  0.0  0.0         0.0\n",
      "36942   Uninfected   9235.0      0.0      0.0  0.0  0.0         0.0\n",
      "36943   Uninfected  10791.0      0.0      0.0  0.0  0.0         0.0\n",
      "36944   Uninfected  12394.0      0.0      0.0  0.0  0.0         0.0\n",
      "36945   Uninfected      0.0      0.0      0.0  0.0  0.0         0.0\n",
      "\n",
      "[36946 rows x 7 columns]\n"
     ]
    }
   ],
   "source": [
    "df=pd.read_csv(\"csv/temp_data_1.csv\")\n",
    "print(df)\n",
    "df.fillna(0,inplace=True)\n",
    "print(df)\n",
    "df.to_csv(\"csv/original_data.csv\",index=False)"
   ]
  },
  {
   "cell_type": "code",
   "execution_count": 6,
   "metadata": {},
   "outputs": [
    {
     "name": "stdout",
     "output_type": "stream",
     "text": [
      "         Label    Area0    Area1    Area2  Area3  Area4\n",
      "0  Parasitized    113.0  15160.0      0.0    0.1    0.2\n",
      "1  Parasitized    163.5  18954.0      0.0    0.0    0.0\n",
      "2  Parasitized     85.0     29.5  15201.0    0.0    0.0\n",
      "3  Parasitized     46.0    196.0  13745.0    0.0    0.0\n",
      "4  Parasitized  13593.0      0.0      0.0    0.0    0.0\n",
      "              precision    recall  f1-score   support\n",
      "\n",
      " Parasitized       0.90      0.94      0.92      4470\n",
      "  Uninfected       0.90      0.84      0.87      2920\n",
      "\n",
      "    accuracy                           0.90      7390\n",
      "   macro avg       0.90      0.89      0.90      7390\n",
      "weighted avg       0.90      0.90      0.90      7390\n",
      "\n"
     ]
    }
   ],
   "source": [
    "from sklearn.model_selection import train_test_split\n",
    "from sklearn.ensemble import RandomForestClassifier\n",
    "from sklearn import metrics\n",
    "import joblib\n",
    "\n",
    "dataframe = pd.read_csv(\"CSV/original_data.csv\")\n",
    "print(dataframe.head())\n",
    "dataframe = dataframe.fillna(0)   #its very imp\n",
    "\n",
    "\n",
    "x=dataframe.drop([\"Label\"],axis=1).values\n",
    "y=dataframe[\"Label\"].values\n",
    "\n",
    "x_train,x_test,y_train,y_test=train_test_split(x,y,test_size=0.2,random_state=4)\n",
    "\n",
    "model=RandomForestClassifier(n_estimators=100,max_depth=5)\n",
    "model.fit(x_train,y_train)\n",
    "\n",
    "\n",
    "joblib.dump(model,\"rf_maleria_100_5\")\n",
    "prediction=model.predict(x_test)\n",
    "\n",
    "print(metrics.classification_report(prediction,y_test))"
   ]
  },
  {
   "cell_type": "code",
   "execution_count": 7,
   "metadata": {},
   "outputs": [
    {
     "data": {
      "text/plain": [
       "array(['Parasitized'], dtype=object)"
      ]
     },
     "execution_count": 7,
     "metadata": {},
     "output_type": "execute_result"
    }
   ],
   "source": [
    "y_predict = model.predict([[112.0, 14000.0, 0.0, 0.0, 1.0]])\n",
    "y_predict"
   ]
  }
 ],
 "metadata": {
  "kernelspec": {
   "display_name": "Python 3",
   "language": "python",
   "name": "python3"
  },
  "language_info": {
   "codemirror_mode": {
    "name": "ipython",
    "version": 3
   },
   "file_extension": ".py",
   "mimetype": "text/x-python",
   "name": "python",
   "nbconvert_exporter": "python",
   "pygments_lexer": "ipython3",
   "version": "3.7.4"
  }
 },
 "nbformat": 4,
 "nbformat_minor": 2
}
